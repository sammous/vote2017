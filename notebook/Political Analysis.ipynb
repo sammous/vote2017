{
 "cells": [
  {
   "cell_type": "markdown",
   "metadata": {
    "deletable": true,
    "editable": true
   },
   "source": [
    "### Importing data gathered from twitter"
   ]
  },
  {
   "cell_type": "code",
   "execution_count": 30,
   "metadata": {
    "collapsed": false,
    "deletable": true,
    "editable": true
   },
   "outputs": [
    {
     "data": {
      "text/plain": [
       "['/Users/sami/Projects/vote2017/data/twitter/fillon.csv',\n",
       " '/Users/sami/Projects/vote2017/data/twitter/hamon.csv',\n",
       " '/Users/sami/Projects/vote2017/data/twitter/lepen.csv',\n",
       " '/Users/sami/Projects/vote2017/data/twitter/macron.csv',\n",
       " '/Users/sami/Projects/vote2017/data/twitter/melenchon.csv',\n",
       " '/Users/sami/Projects/vote2017/data/twitter/valls.csv']"
      ]
     },
     "execution_count": 30,
     "metadata": {},
     "output_type": "execute_result"
    }
   ],
   "source": [
    "import os\n",
    "import sys\n",
    "import glob\n",
    "\n",
    "data_directory = os.path.join(os.path.dirname(os.getcwd()),'data/twitter')\n",
    "\n",
    "files = glob.glob(os.path.join(data_directory,'*.csv'))\n",
    "files"
   ]
  },
  {
   "cell_type": "code",
   "execution_count": 51,
   "metadata": {
    "collapsed": false,
    "deletable": true,
    "editable": true
   },
   "outputs": [
    {
     "name": "stdout",
     "output_type": "stream",
     "text": [
      "('reading ', '/Users/sami/Projects/vote2017/data/twitter/fillon.csv')\n",
      "('reading ', '/Users/sami/Projects/vote2017/data/twitter/hamon.csv')\n",
      "('reading ', '/Users/sami/Projects/vote2017/data/twitter/lepen.csv')\n"
     ]
    }
   ],
   "source": [
    "import pandas as pd\n",
    "from gensim import corpora\n",
    "from gensim.models.word2vec import LineSentence\n",
    "sys.path.append(os.path.dirname(os.getcwd()))\n",
    "from utils.preprocessing import preprocess_sentence\n",
    "\n",
    "corpus = {}\n",
    "\n",
    "for file in files[:3]:\n",
    "    print('reading ',file)\n",
    "    df = pd.read_csv(file, delimiter=';')\n",
    "    text = df.text\n",
    "    name = file.split('/')[-1]\n",
    "    corpus[name] = LineSentence(text)"
   ]
  },
  {
   "cell_type": "code",
   "execution_count": 54,
   "metadata": {
    "collapsed": false,
    "deletable": true,
    "editable": true
   },
   "outputs": [
    {
     "ename": "TypeError",
     "evalue": "don't know how to handle uri 0       Je veux que la France devienne une Smart Natio...\n1       La transformation digitale doit se diffuser pa...\n2       Le numérique, c'est pour nous un enjeu de souv...\n3       Nos entreprises ne doivent pas être contrainte...\n4       On parle beaucoup de patriotisme économique, m...\n5       La liberté d'entreprendre et l’envie d'entrepr...\n6       #CES2017 Vous êtes l’avant-garde de la France ...\n7       Je suis heureux de voir que les Français occup...\n8       Le chômage est la première cause de pauvreté, ...\n9       Je veux être le candidat de la vérité, d’une F...\n10      Je veux que dès le 1er juillet 2017 nous engag...\n11      On ne va pas rester éternellement le pays qui ...\n12      Pour sauver le pays de la faillite et retrouve...\n13      Mon programme n’est pas brutal. La purge, c’es...\n14      Je vais mettre en œuvre le programme sur leque...\n15      Mon programme est le seul qui peut permettre d...\n16      Je suis gaulliste et chrétien. Je ne prendrai ...\n17      Personne ne peut dire aujourd’hui que la Sécur...\n18      Avec près de neuf millions de pauvres en Franc...\n19      Je serai ce soir l'invité de Gilles Bouleau da...\n20      Je vous donne rendez-vous au Palais des Congrè...\n21      #Istanbul Plus que jamais, nous devons être so...\n22      #Istanbul Je condamne cet acte odieux et lâche...\n23      À vous tous, mes chers compatriotes, très bonn...\n24      Heureuses fêtes de Noël à tous. Qu'elles soien...\n25      Très fier d'avoir rencontré les forces françai...\n26      Solidarité avec nos amis allemands frappés ce ...\n27      Plus que jamais, le dialogue doit prévaloir po...\n28      Je condamne avec la plus grand force cet acte ...\n29      J'ai appris avec consternation l'assassinat de...\n                              ...                        \n6846    Instantané de campagne - Passage à la maison d...\n6847    À la rencontre des commerçants du 7e arrondiss...\n6848    Instantané de campagne - à la rencontre des pa...\n6849    VIDÉO - L'invité de RTL : http://www. rtl.fr/v...\n6850    Dans quelques minutes l'invité de @jmaphatie à...\n6851    François #Fillon sera demain à 7H45 l'invité d...\n6852    Bruxelles 18H réunion de soutien @mamontchamp ...\n6853    Rencontre cet après-midi à Bruxelles des dirig...\n6854    Multicandidat, François Fillon débute sa campa...\n6855    Hommage à vous qui défendez vos valeurs et déf...\n6856    Réunion avec des associations du 6e aux côtés ...\n6857    #Fillon retrouve le terrain à Paris via @leJDD...\n6858    #Paris n'a aucune vocation à rester éternellem...\n6859    Café politique de soutien @vpaparemborde 3e ci...\n6860    Instantané de campagne -Échange avec @vpaparem...\n6861    Visite de la permanence de @vpaparemborde cand...\n6862    Café politique de soutien @lancarbenjamin cand...\n6863    Hommage @lancarbenjamin remarquable responsabl...\n6864    Instantané de campagne - Café politique @fdebe...\n6865    Mener un combat pour empêcher la mise en oeuvr...\n6866    Déplacement de soutien @lancarbenjamin : renco...\n6867    (3/3) 18H réunion avec des associations du 6e ...\n6868    (2/3) Déplacement de soutien @vpaparemborde : ...\n6869    Agenda du jour: (1/3) soutien @lancarbenjamin ...\n6870    Découvrez le document de campagne : http://www...\n6871    Demain déplacement de soutien @lancarbenjamin ...\n6872    2° circonscription de Paris - Pendant la campa...\n6873    François Fillon a choisi sa suppléante http://...\n6874    Actualités de la campagne, engagements de Fran...\n6875    Bonjour. Ce fil twitter vous permettra de suiv...\nName: text, dtype: object",
     "output_type": "error",
     "traceback": [
      "\u001b[0;31m---------------------------------------------------------------------------\u001b[0m",
      "\u001b[0;31mTypeError\u001b[0m                                 Traceback (most recent call last)",
      "\u001b[0;32m<ipython-input-54-ac00fd922a10>\u001b[0m in \u001b[0;36m<module>\u001b[0;34m()\u001b[0m\n\u001b[0;32m----> 1\u001b[0;31m \u001b[0;32mfor\u001b[0m \u001b[0ml\u001b[0m \u001b[0;32min\u001b[0m \u001b[0mcorpus\u001b[0m\u001b[0;34m[\u001b[0m\u001b[0;34m'fillon.csv'\u001b[0m\u001b[0;34m]\u001b[0m\u001b[0;34m:\u001b[0m\u001b[0;34m\u001b[0m\u001b[0m\n\u001b[0m\u001b[1;32m      2\u001b[0m     \u001b[0;32mprint\u001b[0m \u001b[0ml\u001b[0m\u001b[0;34m\u001b[0m\u001b[0m\n",
      "\u001b[0;32m/Users/sami/Projects/jerome/transgram/gensim/models/word2vec.pyc\u001b[0m in \u001b[0;36m__iter__\u001b[0;34m(self)\u001b[0m\n\u001b[1;32m   1758\u001b[0m         \u001b[0;32mexcept\u001b[0m \u001b[0mAttributeError\u001b[0m\u001b[0;34m:\u001b[0m\u001b[0;34m\u001b[0m\u001b[0m\n\u001b[1;32m   1759\u001b[0m             \u001b[0;31m# If it didn't work like a file, use it as a string filename\u001b[0m\u001b[0;34m\u001b[0m\u001b[0;34m\u001b[0m\u001b[0m\n\u001b[0;32m-> 1760\u001b[0;31m             \u001b[0;32mwith\u001b[0m \u001b[0mutils\u001b[0m\u001b[0;34m.\u001b[0m\u001b[0msmart_open\u001b[0m\u001b[0;34m(\u001b[0m\u001b[0mself\u001b[0m\u001b[0;34m.\u001b[0m\u001b[0msource\u001b[0m\u001b[0;34m)\u001b[0m \u001b[0;32mas\u001b[0m \u001b[0mfin\u001b[0m\u001b[0;34m:\u001b[0m\u001b[0;34m\u001b[0m\u001b[0m\n\u001b[0m\u001b[1;32m   1761\u001b[0m                 \u001b[0;32mfor\u001b[0m \u001b[0mline\u001b[0m \u001b[0;32min\u001b[0m \u001b[0mitertools\u001b[0m\u001b[0;34m.\u001b[0m\u001b[0mislice\u001b[0m\u001b[0;34m(\u001b[0m\u001b[0mfin\u001b[0m\u001b[0;34m,\u001b[0m \u001b[0mself\u001b[0m\u001b[0;34m.\u001b[0m\u001b[0mlimit\u001b[0m\u001b[0;34m)\u001b[0m\u001b[0;34m:\u001b[0m\u001b[0;34m\u001b[0m\u001b[0m\n\u001b[1;32m   1762\u001b[0m                     \u001b[0mline\u001b[0m \u001b[0;34m=\u001b[0m \u001b[0mutils\u001b[0m\u001b[0;34m.\u001b[0m\u001b[0mto_unicode\u001b[0m\u001b[0;34m(\u001b[0m\u001b[0mline\u001b[0m\u001b[0;34m)\u001b[0m\u001b[0;34m.\u001b[0m\u001b[0msplit\u001b[0m\u001b[0;34m(\u001b[0m\u001b[0;34m)\u001b[0m\u001b[0;34m\u001b[0m\u001b[0m\n",
      "\u001b[0;32m/Users/sami/.virtualenvs/vote/lib/python2.7/site-packages/smart_open/smart_open_lib.pyc\u001b[0m in \u001b[0;36msmart_open\u001b[0;34m(uri, mode, **kw)\u001b[0m\n\u001b[1;32m    178\u001b[0m         \u001b[0;32mreturn\u001b[0m \u001b[0muri\u001b[0m\u001b[0;34m\u001b[0m\u001b[0m\n\u001b[1;32m    179\u001b[0m     \u001b[0;32melse\u001b[0m\u001b[0;34m:\u001b[0m\u001b[0;34m\u001b[0m\u001b[0m\n\u001b[0;32m--> 180\u001b[0;31m         \u001b[0;32mraise\u001b[0m \u001b[0mTypeError\u001b[0m\u001b[0;34m(\u001b[0m\u001b[0;34m'don\\'t know how to handle uri %s'\u001b[0m \u001b[0;34m%\u001b[0m \u001b[0mrepr\u001b[0m\u001b[0;34m(\u001b[0m\u001b[0muri\u001b[0m\u001b[0;34m)\u001b[0m\u001b[0;34m)\u001b[0m\u001b[0;34m\u001b[0m\u001b[0m\n\u001b[0m\u001b[1;32m    181\u001b[0m \u001b[0;34m\u001b[0m\u001b[0m\n\u001b[1;32m    182\u001b[0m \u001b[0;34m\u001b[0m\u001b[0m\n",
      "\u001b[0;31mTypeError\u001b[0m: don't know how to handle uri 0       Je veux que la France devienne une Smart Natio...\n1       La transformation digitale doit se diffuser pa...\n2       Le numérique, c'est pour nous un enjeu de souv...\n3       Nos entreprises ne doivent pas être contrainte...\n4       On parle beaucoup de patriotisme économique, m...\n5       La liberté d'entreprendre et l’envie d'entrepr...\n6       #CES2017 Vous êtes l’avant-garde de la France ...\n7       Je suis heureux de voir que les Français occup...\n8       Le chômage est la première cause de pauvreté, ...\n9       Je veux être le candidat de la vérité, d’une F...\n10      Je veux que dès le 1er juillet 2017 nous engag...\n11      On ne va pas rester éternellement le pays qui ...\n12      Pour sauver le pays de la faillite et retrouve...\n13      Mon programme n’est pas brutal. La purge, c’es...\n14      Je vais mettre en œuvre le programme sur leque...\n15      Mon programme est le seul qui peut permettre d...\n16      Je suis gaulliste et chrétien. Je ne prendrai ...\n17      Personne ne peut dire aujourd’hui que la Sécur...\n18      Avec près de neuf millions de pauvres en Franc...\n19      Je serai ce soir l'invité de Gilles Bouleau da...\n20      Je vous donne rendez-vous au Palais des Congrè...\n21      #Istanbul Plus que jamais, nous devons être so...\n22      #Istanbul Je condamne cet acte odieux et lâche...\n23      À vous tous, mes chers compatriotes, très bonn...\n24      Heureuses fêtes de Noël à tous. Qu'elles soien...\n25      Très fier d'avoir rencontré les forces françai...\n26      Solidarité avec nos amis allemands frappés ce ...\n27      Plus que jamais, le dialogue doit prévaloir po...\n28      Je condamne avec la plus grand force cet acte ...\n29      J'ai appris avec consternation l'assassinat de...\n                              ...                        \n6846    Instantané de campagne - Passage à la maison d...\n6847    À la rencontre des commerçants du 7e arrondiss...\n6848    Instantané de campagne - à la rencontre des pa...\n6849    VIDÉO - L'invité de RTL : http://www. rtl.fr/v...\n6850    Dans quelques minutes l'invité de @jmaphatie à...\n6851    François #Fillon sera demain à 7H45 l'invité d...\n6852    Bruxelles 18H réunion de soutien @mamontchamp ...\n6853    Rencontre cet après-midi à Bruxelles des dirig...\n6854    Multicandidat, François Fillon débute sa campa...\n6855    Hommage à vous qui défendez vos valeurs et déf...\n6856    Réunion avec des associations du 6e aux côtés ...\n6857    #Fillon retrouve le terrain à Paris via @leJDD...\n6858    #Paris n'a aucune vocation à rester éternellem...\n6859    Café politique de soutien @vpaparemborde 3e ci...\n6860    Instantané de campagne -Échange avec @vpaparem...\n6861    Visite de la permanence de @vpaparemborde cand...\n6862    Café politique de soutien @lancarbenjamin cand...\n6863    Hommage @lancarbenjamin remarquable responsabl...\n6864    Instantané de campagne - Café politique @fdebe...\n6865    Mener un combat pour empêcher la mise en oeuvr...\n6866    Déplacement de soutien @lancarbenjamin : renco...\n6867    (3/3) 18H réunion avec des associations du 6e ...\n6868    (2/3) Déplacement de soutien @vpaparemborde : ...\n6869    Agenda du jour: (1/3) soutien @lancarbenjamin ...\n6870    Découvrez le document de campagne : http://www...\n6871    Demain déplacement de soutien @lancarbenjamin ...\n6872    2° circonscription de Paris - Pendant la campa...\n6873    François Fillon a choisi sa suppléante http://...\n6874    Actualités de la campagne, engagements de Fran...\n6875    Bonjour. Ce fil twitter vous permettra de suiv...\nName: text, dtype: object"
     ]
    }
   ],
   "source": [
    "for l in corpus['fillon.csv']:\n",
    "    print l"
   ]
  },
  {
   "cell_type": "code",
   "execution_count": null,
   "metadata": {
    "collapsed": true,
    "deletable": true,
    "editable": true
   },
   "outputs": [],
   "source": []
  }
 ],
 "metadata": {
  "kernelspec": {
   "display_name": "Python 2",
   "language": "python",
   "name": "python2"
  },
  "language_info": {
   "codemirror_mode": {
    "name": "ipython",
    "version": 2
   },
   "file_extension": ".py",
   "mimetype": "text/x-python",
   "name": "python",
   "nbconvert_exporter": "python",
   "pygments_lexer": "ipython2",
   "version": "2.7.10"
  }
 },
 "nbformat": 4,
 "nbformat_minor": 2
}
