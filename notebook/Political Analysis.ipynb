{
 "cells": [
  {
   "cell_type": "markdown",
   "metadata": {
    "deletable": true,
    "editable": true
   },
   "source": [
    "### Importing data gathered from twitter"
   ]
  },
  {
   "cell_type": "code",
   "execution_count": 1,
   "metadata": {
    "collapsed": false,
    "deletable": true,
    "editable": true
   },
   "outputs": [
    {
     "data": {
      "text/plain": [
       "['/Users/sami/Projects/vote2017/data/twitter/fillon.csv',\n",
       " '/Users/sami/Projects/vote2017/data/twitter/hamon.csv',\n",
       " '/Users/sami/Projects/vote2017/data/twitter/lepen.csv',\n",
       " '/Users/sami/Projects/vote2017/data/twitter/macron.csv',\n",
       " '/Users/sami/Projects/vote2017/data/twitter/melenchon.csv',\n",
       " '/Users/sami/Projects/vote2017/data/twitter/valls.csv']"
      ]
     },
     "execution_count": 1,
     "metadata": {},
     "output_type": "execute_result"
    }
   ],
   "source": [
    "import os\n",
    "import sys\n",
    "import glob\n",
    "\n",
    "data_directory = os.path.join(os.path.dirname(os.getcwd()),'data/twitter')\n",
    "\n",
    "files = glob.glob(os.path.join(data_directory,'*.csv'))\n",
    "files"
   ]
  },
  {
   "cell_type": "code",
   "execution_count": 39,
   "metadata": {
    "collapsed": false,
    "deletable": true,
    "editable": true,
    "scrolled": true
   },
   "outputs": [
    {
     "name": "stdout",
     "output_type": "stream",
     "text": [
      "('reading ', '/Users/sami/Projects/vote2017/data/twitter/fillon.csv')\n",
      "('reading ', '/Users/sami/Projects/vote2017/data/twitter/hamon.csv')\n",
      "('reading ', '/Users/sami/Projects/vote2017/data/twitter/lepen.csv')\n",
      "('reading ', '/Users/sami/Projects/vote2017/data/twitter/macron.csv')\n",
      "('reading ', '/Users/sami/Projects/vote2017/data/twitter/melenchon.csv')\n",
      "('reading ', '/Users/sami/Projects/vote2017/data/twitter/valls.csv')\n"
     ]
    }
   ],
   "source": [
    "import pandas as pd\n",
    "import csv\n",
    "from gensim import corpora\n",
    "from gensim.models.word2vec import LineSentence\n",
    "sys.path.append(os.path.dirname(os.getcwd()))\n",
    "from utils.preprocessing import preprocess_sentence\n",
    "\n",
    "corpus = {}\n",
    "\n",
    "for file in files:\n",
    "    print('reading ',file)\n",
    "    df = pd.read_csv(file, sep=';', quoting=csv.QUOTE_ALL)\n",
    "    text = df.text.values\n",
    "    tweets = []\n",
    "    for t in text:\n",
    "        tweets.append(preprocess_sentence(t))\n",
    "    name = file.split('/')[-1]\n",
    "    corpus[name] = tweets"
   ]
  }
 ],
 "metadata": {
  "kernelspec": {
   "display_name": "Python 2",
   "language": "python",
   "name": "python2"
  },
  "language_info": {
   "codemirror_mode": {
    "name": "ipython",
    "version": 2
   },
   "file_extension": ".py",
   "mimetype": "text/x-python",
   "name": "python",
   "nbconvert_exporter": "python",
   "pygments_lexer": "ipython2",
   "version": "2.7.10"
  }
 },
 "nbformat": 4,
 "nbformat_minor": 2
}
