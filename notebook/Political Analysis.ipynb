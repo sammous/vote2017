{
 "cells": [
  {
   "cell_type": "markdown",
   "metadata": {
    "deletable": true,
    "editable": true
   },
   "source": [
    "### Importing data gathered from twitter"
   ]
  },
  {
   "cell_type": "code",
   "execution_count": 1,
   "metadata": {
    "collapsed": false,
    "deletable": true,
    "editable": true
   },
   "outputs": [
    {
     "data": {
      "text/plain": [
       "['/Users/sami/Projects/vote2017/data/twitter/fillon.csv',\n",
       " '/Users/sami/Projects/vote2017/data/twitter/hamon.csv',\n",
       " '/Users/sami/Projects/vote2017/data/twitter/lepen.csv',\n",
       " '/Users/sami/Projects/vote2017/data/twitter/macron.csv',\n",
       " '/Users/sami/Projects/vote2017/data/twitter/melenchon.csv',\n",
       " '/Users/sami/Projects/vote2017/data/twitter/valls.csv']"
      ]
     },
     "execution_count": 1,
     "metadata": {},
     "output_type": "execute_result"
    }
   ],
   "source": [
    "import os\n",
    "import sys\n",
    "import glob\n",
    "\n",
    "data_directory = os.path.join(os.path.dirname(os.getcwd()),'data/twitter')\n",
    "\n",
    "files = glob.glob(os.path.join(data_directory,'*.csv'))\n",
    "files"
   ]
  },
  {
   "cell_type": "code",
   "execution_count": 2,
   "metadata": {
    "collapsed": false,
    "deletable": true,
    "editable": true,
    "scrolled": true
   },
   "outputs": [
    {
     "name": "stderr",
     "output_type": "stream",
     "text": [
      "No handlers could be found for logger \"gensim.models.word2vec\"\n"
     ]
    },
    {
     "ename": "SyntaxError",
     "evalue": "Non-ASCII character '\\xc3' in file /Users/sami/Projects/vote2017/utils/preprocessing.py on line 16, but no encoding declared; see http://python.org/dev/peps/pep-0263/ for details (preprocessing.py, line 15)",
     "output_type": "error",
     "traceback": [
      "\u001b[0;36m  File \u001b[0;32m\"/Users/sami/Projects/vote2017/utils/preprocessing.py\"\u001b[0;36m, line \u001b[0;32m15\u001b[0m\n\u001b[0;31m    a à â abord absolument afin ah ai aie ailleurs ainsi ait allaient allo allons\u001b[0m\n\u001b[0m                                                                                 ^\u001b[0m\n\u001b[0;31mSyntaxError\u001b[0m\u001b[0;31m:\u001b[0m Non-ASCII character '\\xc3' in file /Users/sami/Projects/vote2017/utils/preprocessing.py on line 16, but no encoding declared; see http://python.org/dev/peps/pep-0263/ for details\n"
     ]
    }
   ],
   "source": [
    "import pandas as pd\n",
    "import csv\n",
    "from gensim import corpora\n",
    "from gensim.models.word2vec import LineSentence\n",
    "sys.path.append(os.path.dirname(os.getcwd()))\n",
    "from utils.preprocessing import preprocess_sentence\n",
    "\n",
    "corpus = {}\n",
    "\n",
    "for file in files:\n",
    "    print('reading ',file)\n",
    "    df = pd.read_csv(file, sep=';', quoting=csv.QUOTE_ALL)\n",
    "    text = df.text.values\n",
    "    tweets = []\n",
    "    for t in text:\n",
    "        tweets.append(preprocess_sentence(t))\n",
    "    name = file.split('/')[-1]\n",
    "    corpus[name] = tweets"
   ]
  },
  {
   "cell_type": "code",
   "execution_count": null,
   "metadata": {
    "collapsed": true,
    "deletable": true,
    "editable": true
   },
   "outputs": [],
   "source": [
    "import logging\n",
    "logging.basicConfig(format='%(asctime)s : %(levelname)s : %(message)s', level=logging.INFO)"
   ]
  },
  {
   "cell_type": "markdown",
   "metadata": {
    "deletable": true,
    "editable": true
   },
   "source": [
    "## Building Dictionaries"
   ]
  },
  {
   "cell_type": "markdown",
   "metadata": {
    "deletable": true,
    "editable": true
   },
   "source": [
    "Removing rare words (appearing in less than 20 tweets or in more than 50% of the tweets)."
   ]
  },
  {
   "cell_type": "code",
   "execution_count": null,
   "metadata": {
    "collapsed": false,
    "deletable": true,
    "editable": true
   },
   "outputs": [],
   "source": [
    "from gensim.corpora import Dictionary\n",
    "\n",
    "dictionaries = {}\n",
    "for k,v in corpus.items():\n",
    "    d = Dictionary(v)\n",
    "    d.filter_extremes(no_below=10, no_above=0.4)\n",
    "    dictionaries[k] = d\n",
    "                                 "
   ]
  },
  {
   "cell_type": "markdown",
   "metadata": {
    "deletable": true,
    "editable": true
   },
   "source": [
    "## Building LDA Model"
   ]
  },
  {
   "cell_type": "code",
   "execution_count": null,
   "metadata": {
    "collapsed": false,
    "deletable": true,
    "editable": true,
    "scrolled": false
   },
   "outputs": [],
   "source": [
    "from gensim.models import LdaModel\n",
    "\n",
    "name = 'fillon.csv'\n",
    "#Bag of words representation of the tweets\n",
    "c = [dictionaries[name].doc2bow(doc) for doc in corpus[name]]\n",
    "\n",
    "print('Number of unique tokens: %d' % len(dictionaries[name]))\n",
    "print('Number of documents: %d' % len(corpus[name]))\n",
    "\n",
    "# Set training parameters.\n",
    "num_topics = 10\n",
    "chunksize = 2000\n",
    "passes = 20\n",
    "iterations = 400\n",
    "eval_every = None  # Don't evaluate model perplexity, takes too much time.\n",
    "\n",
    "# Make a index to word dictionary.\n",
    "temp = dictionaries[name][0]  # This is only to \"load\" the dictionary.\n",
    "id2word = dictionaries[name].id2token\n",
    "\n",
    "%time model = LdaModel(corpus=c, id2word=id2word, chunksize=chunksize, \\\n",
    "                       alpha='auto', eta='auto', \\\n",
    "                       iterations=iterations, num_topics=num_topics, \\\n",
    "                       passes=passes, eval_every=eval_every)\n"
   ]
  },
  {
   "cell_type": "code",
   "execution_count": null,
   "metadata": {
    "collapsed": false,
    "deletable": true,
    "editable": true,
    "scrolled": true
   },
   "outputs": [],
   "source": [
    "import pyLDAvis.gensim\n",
    "pyLDAvis.enable_notebook()\n",
    "pyLDAvis.gensim.prepare(model, corpus[name], dictionaries[name])"
   ]
  },
  {
   "cell_type": "markdown",
   "metadata": {
    "deletable": true,
    "editable": true
   },
   "source": [
    "## Word2vec model"
   ]
  }
 ],
 "metadata": {
  "kernelspec": {
   "display_name": "Python 2",
   "language": "python",
   "name": "python2"
  },
  "language_info": {
   "codemirror_mode": {
    "name": "ipython",
    "version": 2
   },
   "file_extension": ".py",
   "mimetype": "text/x-python",
   "name": "python",
   "nbconvert_exporter": "python",
   "pygments_lexer": "ipython2",
   "version": "2.7.10"
  }
 },
 "nbformat": 4,
 "nbformat_minor": 2
}
